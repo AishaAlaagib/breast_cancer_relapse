{
 "cells": [
  {
   "cell_type": "markdown",
   "metadata": {},
   "source": [
    "# Read the Data"
   ]
  },
  {
   "cell_type": "code",
   "execution_count": 15,
   "metadata": {
    "ExecuteTime": {
     "end_time": "2019-02-01T02:13:44.272275Z",
     "start_time": "2019-02-01T02:13:44.259859Z"
    }
   },
   "outputs": [],
   "source": [
    "from sklearn.feature_selection import mutual_info_classif, f_classif, SelectFromModel\n",
    "import warnings\n",
    "from sklearn.manifold import TSNE\n",
    "from sklearn.decomposition import PCA\n",
    "import pandas as pd\n",
    "import numpy as np\n",
    "from sklearn.model_selection import GridSearchCV, KFold, cross_val_score, train_test_split\n",
    "from sklearn.ensemble import RandomForestClassifier\n",
    "from sklearn.tree import DecisionTreeClassifier\n",
    "from sklearn.svm import SVC, LinearSVC\n",
    "from sklearn.linear_model import LogisticRegression, LassoCV\n",
    "from sklearn.neighbors import KNeighborsClassifier\n",
    "from xgboost import XGBClassifier\n",
    "from lightgbm import LGBMClassifier\n",
    "from sklearn.metrics import roc_auc_score\n",
    "from sklearn.manifold import Isomap\n",
    "import matplotlib.pyplot as plt\n",
    "from sklearn import preprocessing\n",
    "%matplotlib inline\n",
    "\n",
    "warnings.filterwarnings('ignore')"
   ]
  },
  {
   "cell_type": "code",
   "execution_count": 16,
   "metadata": {
    "ExecuteTime": {
     "end_time": "2019-02-01T02:13:46.122706Z",
     "start_time": "2019-02-01T02:13:45.997413Z"
    },
    "scrolled": true
   },
   "outputs": [
    {
     "name": "stdout",
     "output_type": "stream",
     "text": [
      "<class 'pandas.core.frame.DataFrame'>\n",
      "RangeIndex: 184 entries, 0 to 183\n",
      "Data columns (total 1 columns):\n",
      "0    184 non-null int64\n",
      "dtypes: int64(1)\n",
      "memory usage: 1.5 KB\n"
     ]
    }
   ],
   "source": [
    "df_main = pd.read_csv('xtrain.txt', header = None, sep = '\\t', index_col = 0)\n",
    "# df_main.set_index(0, inplace = True)\n",
    "df_main = df_main.transpose()\n",
    "df_main.head()\n",
    "\n",
    "# Read the y values\n",
    "df_y = pd.read_csv('ytrain.txt', header = None)\n",
    "# df_y.index = 1+np.arange(184)\n",
    "\n",
    "# # Concatenate both\n",
    "# df_main['y'] = df_y[0:]\n",
    "# df_main = df_main.astype({'y':'category'})\n",
    "\n",
    "df_y.info()"
   ]
  },
  {
   "cell_type": "code",
   "execution_count": 3,
   "metadata": {
    "ExecuteTime": {
     "end_time": "2019-01-31T19:34:42.591634Z",
     "start_time": "2019-01-31T19:34:42.590108Z"
    }
   },
   "outputs": [],
   "source": [
    "# Save the data\n",
    "# df_main.to_csv('breast_genes.csv', index = False)"
   ]
  },
  {
   "cell_type": "code",
   "execution_count": 30,
   "metadata": {
    "ExecuteTime": {
     "end_time": "2019-02-01T02:19:29.743964Z",
     "start_time": "2019-02-01T02:19:28.700312Z"
    }
   },
   "outputs": [],
   "source": [
    "from sklearn.linear_model import Lasso\n",
    "\n",
    "lass = Lasso(\n",
    "        max_iter=3000,\n",
    "        alpha= 0.00281,\n",
    "        random_state= 5 \n",
    "        )\n",
    "lass.fit(x, y)\n",
    "lass.coef_.min(), lass.coef_.max()\n",
    "\n",
    "#Checking Features Importances\n",
    "import matplotlib\n",
    "coef = pd.Series(lass.coef_, index = df_main.columns)\n",
    "#print(\"Lasso picked \" + str(sum(coef != 0)) + \" variables and eliminated the other \" +  str(sum(coef == 0)) + \" variables\")\n",
    "\n",
    "\n",
    "# imp_coef = pd.concat([coef.sort_values().head(25),\n",
    "#                      coef.sort_values().tail(25)])\n",
    "# matplotlib.rcParams['figure.figsize'] = (8.0, 10.0)\n",
    "# imp_coef.plot(kind = \"barh\")\n",
    "# plt.title(\"Coefficients in the Lasso Model\")\n",
    "\n",
    "# Selection of features\n",
    "good_features = np.abs(np.array(lass.coef_)) > 0\n",
    "\n",
    "sum(good_features)\n",
    "# print(\"Features reduced from %10d to %10d\" % (train_norm.shape[1], int(good_features.sum())))\n",
    "# #saving data\n",
    "# train_lasso_select = train.iloc[:, good_features]\n",
    "# test_lasso_select= test.iloc[:, good_features]\n",
    "# train_lasso_select.to_csv('train_lasso_select.csv',index=False)\n",
    "# test_lasso_select.to_csv('test_lasso_select.csv',index=False)\n",
    "\n",
    "df_lasso = df_main.iloc[:, good_features]\n"
   ]
  },
  {
   "cell_type": "markdown",
   "metadata": {},
   "source": [
    "# Applying Different Models"
   ]
  },
  {
   "cell_type": "code",
   "execution_count": 31,
   "metadata": {
    "ExecuteTime": {
     "end_time": "2019-02-01T02:19:37.756221Z",
     "start_time": "2019-02-01T02:19:37.744855Z"
    }
   },
   "outputs": [],
   "source": [
    "x = df_lasso.values\n",
    "y = np.array(df_y.values)\n",
    "\n",
    "scaler = preprocessing.StandardScaler()\n",
    "\n",
    "# x = scaler.fit_transform(x)\n",
    "# x = preprocessing.MinMaxScaler().fit_transform(x)\n",
    "\n",
    "x_train, x_test, y_train, y_test = train_test_split(x, y, test_size=0.33, random_state=42, shuffle=True)"
   ]
  },
  {
   "cell_type": "code",
   "execution_count": 32,
   "metadata": {
    "ExecuteTime": {
     "end_time": "2019-02-01T02:19:38.786619Z",
     "start_time": "2019-02-01T02:19:38.783011Z"
    }
   },
   "outputs": [],
   "source": [
    "def train(model, xtrain, ytrain, xtest, ytest):\n",
    "    \n",
    "    model.fit(xtrain, ytrain)\n",
    "    pred = model.predict(xtest)\n",
    "    kfold = KFold(n_splits=10, random_state=42)\n",
    "    result = cross_val_score(model, xtrain, ytrain, cv=kfold, scoring='balanced_accuracy')\n",
    "    print(f'Accuracy =  {model.score(xtest, ytest):.4} - ROC = {roc_auc_score(ytest, pred):.4} - CV mean = {result.mean():.4}')\n",
    "    "
   ]
  },
  {
   "cell_type": "code",
   "execution_count": 33,
   "metadata": {
    "ExecuteTime": {
     "end_time": "2019-02-01T02:19:39.621828Z",
     "start_time": "2019-02-01T02:19:39.487713Z"
    }
   },
   "outputs": [
    {
     "name": "stdout",
     "output_type": "stream",
     "text": [
      "Accuracy =  0.5574 - ROC = 0.4731 - CV mean = 0.6186\n"
     ]
    }
   ],
   "source": [
    "# Random Forest with default number of estimators\n",
    "rf = RandomForestClassifier(random_state=42)\n",
    "train(rf, x_train, y_train, x_test, y_test)\n"
   ]
  },
  {
   "cell_type": "code",
   "execution_count": 34,
   "metadata": {
    "ExecuteTime": {
     "end_time": "2019-02-01T02:19:42.635177Z",
     "start_time": "2019-02-01T02:19:42.373033Z"
    }
   },
   "outputs": [
    {
     "name": "stdout",
     "output_type": "stream",
     "text": [
      "Accuracy =  0.6721 - ROC = 0.6081 - CV mean = 0.5661\n"
     ]
    }
   ],
   "source": [
    "lgb = LGBMClassifier()\n",
    "train(lgb, x_train, y_train, x_test, y_test)"
   ]
  },
  {
   "cell_type": "code",
   "execution_count": 35,
   "metadata": {
    "ExecuteTime": {
     "end_time": "2019-02-01T02:19:45.020135Z",
     "start_time": "2019-02-01T02:19:44.191150Z"
    }
   },
   "outputs": [
    {
     "name": "stdout",
     "output_type": "stream",
     "text": [
      "Accuracy =  0.6393 - ROC = 0.5303 - CV mean = 0.5043\n"
     ]
    }
   ],
   "source": [
    "# RandomForest with 100 estimators\n",
    "rf = RandomForestClassifier(n_estimators= 100, random_state=42)\n",
    "train(rf, x_train, y_train, x_test, y_test)"
   ]
  },
  {
   "cell_type": "code",
   "execution_count": 36,
   "metadata": {
    "ExecuteTime": {
     "end_time": "2019-02-01T02:19:46.205556Z",
     "start_time": "2019-02-01T02:19:46.131403Z"
    }
   },
   "outputs": [
    {
     "name": "stdout",
     "output_type": "stream",
     "text": [
      "Accuracy =  0.623 - ROC = 0.5 - CV mean = 0.5\n"
     ]
    }
   ],
   "source": [
    "# SVM with default parameters\n",
    "clf = SVC(random_state=42)\n",
    "train(clf, x_train, y_train, x_test, y_test)"
   ]
  },
  {
   "cell_type": "code",
   "execution_count": 37,
   "metadata": {
    "ExecuteTime": {
     "end_time": "2019-02-01T02:19:47.729119Z",
     "start_time": "2019-02-01T02:19:47.385279Z"
    }
   },
   "outputs": [
    {
     "name": "stdout",
     "output_type": "stream",
     "text": [
      "Accuracy =  0.9508 - ROC = 0.9348 - CV mean = 0.8608\n"
     ]
    }
   ],
   "source": [
    "# SVM with default parameters\n",
    "clf = LinearSVC(random_state=42)\n",
    "train(clf, x_train, y_train, x_test, y_test)"
   ]
  },
  {
   "cell_type": "code",
   "execution_count": 38,
   "metadata": {
    "ExecuteTime": {
     "end_time": "2019-02-01T02:19:57.355755Z",
     "start_time": "2019-02-01T02:19:57.287512Z"
    }
   },
   "outputs": [
    {
     "name": "stdout",
     "output_type": "stream",
     "text": [
      "Accuracy =  0.9344 - ROC = 0.9216 - CV mean = 0.782\n"
     ]
    }
   ],
   "source": [
    "# Logistic Regression with default parameters\n",
    "lr = LogisticRegression(random_state=42)\n",
    "train(lr, x_train, y_train, x_test, y_test)"
   ]
  },
  {
   "cell_type": "code",
   "execution_count": 39,
   "metadata": {
    "ExecuteTime": {
     "end_time": "2019-02-01T02:20:00.902339Z",
     "start_time": "2019-02-01T02:20:00.806684Z"
    }
   },
   "outputs": [
    {
     "name": "stdout",
     "output_type": "stream",
     "text": [
      "Accuracy =  0.9344 - ROC = 0.9216 - CV mean = 0.7989\n"
     ]
    }
   ],
   "source": [
    "# Logistic Regression with dual form \n",
    "lr = LogisticRegression(random_state=42, dual =True) # best one till now\n",
    "train(lr, x_train, y_train, x_test, y_test)"
   ]
  },
  {
   "cell_type": "code",
   "execution_count": 40,
   "metadata": {
    "ExecuteTime": {
     "end_time": "2019-02-01T02:20:07.791074Z",
     "start_time": "2019-02-01T02:20:07.739060Z"
    }
   },
   "outputs": [
    {
     "name": "stdout",
     "output_type": "stream",
     "text": [
      "Accuracy =  0.8197 - ROC = 0.7695 - CV mean = 0.6442\n"
     ]
    }
   ],
   "source": [
    "# Logistic Regression with C = 0.01\n",
    "# C : Inverse of regularization strength; must be a positive float. \n",
    "# Like in support vector machines, smaller values specify stronger regularization.\n",
    "\n",
    "lr = LogisticRegression(random_state=42, C = 0.01)\n",
    "train(lr, x_train, y_train, x_test, y_test)"
   ]
  },
  {
   "cell_type": "code",
   "execution_count": 41,
   "metadata": {
    "ExecuteTime": {
     "end_time": "2019-02-01T02:20:09.683117Z",
     "start_time": "2019-02-01T02:20:09.641337Z"
    }
   },
   "outputs": [
    {
     "name": "stdout",
     "output_type": "stream",
     "text": [
      "Accuracy =  0.6557 - ROC = 0.6035 - CV mean = 0.5841\n"
     ]
    }
   ],
   "source": [
    "# KNN with default params\n",
    "knn = KNeighborsClassifier()\n",
    "train(knn, x_train, y_train, x_test, y_test)"
   ]
  },
  {
   "cell_type": "code",
   "execution_count": 42,
   "metadata": {
    "ExecuteTime": {
     "end_time": "2019-02-01T02:20:10.971073Z",
     "start_time": "2019-02-01T02:20:10.904129Z"
    }
   },
   "outputs": [
    {
     "name": "stdout",
     "output_type": "stream",
     "text": [
      "Accuracy =  0.9344 - ROC = 0.9216 - CV mean = 0.8186\n"
     ]
    }
   ],
   "source": [
    "# SVM with polynomial kernel\n",
    "clf = SVC(random_state=42 , C = 10, kernel = 'poly') # (sigmoid 62) and (rbf 65), (poly 70)\n",
    "train(clf, x_train, y_train, x_test, y_test)"
   ]
  },
  {
   "cell_type": "markdown",
   "metadata": {},
   "source": [
    "# Hyperparams Tuning for SVM"
   ]
  },
  {
   "cell_type": "markdown",
   "metadata": {},
   "source": [
    "## SVM"
   ]
  },
  {
   "cell_type": "code",
   "execution_count": 77,
   "metadata": {
    "ExecuteTime": {
     "end_time": "2019-02-01T02:29:40.833959Z",
     "start_time": "2019-02-01T02:29:40.823596Z"
    }
   },
   "outputs": [],
   "source": [
    "def svc_param_selection(X, y, nfolds):\n",
    "    Cs = [0.001, 0.01, 0.1, 1, 10, 100]\n",
    "#     gammas = [0.001, 0.01, 0.1, 1]\n",
    "    kernels = ['linear', 'poly', 'rbf', 'sigmoid']\n",
    "    degrees = [2, 3, 4, 5]\n",
    "    param_grid = {'C': Cs, 'kernel' : kernels, 'degree': degrees}\n",
    "    grid_search = GridSearchCV(SVC(), param_grid, cv=nfolds)\n",
    "    grid_search.fit(X, y)\n",
    "    grid_search.best_params_\n",
    "    return grid_search.best_params_"
   ]
  },
  {
   "cell_type": "code",
   "execution_count": 78,
   "metadata": {
    "ExecuteTime": {
     "end_time": "2019-02-01T02:29:46.439445Z",
     "start_time": "2019-02-01T02:29:41.385928Z"
    }
   },
   "outputs": [
    {
     "data": {
      "text/plain": [
       "{'C': 0.01, 'degree': 2, 'kernel': 'linear'}"
      ]
     },
     "execution_count": 78,
     "metadata": {},
     "output_type": "execute_result"
    }
   ],
   "source": [
    "# takes 4 min to run\n",
    "best_params = svc_param_selection(x_train, y_train, 10)\n",
    "best_params # were {'C': 0.01, 'degree': 2, 'kernel': 'linear'}"
   ]
  },
  {
   "cell_type": "code",
   "execution_count": 79,
   "metadata": {
    "ExecuteTime": {
     "end_time": "2019-02-01T02:29:51.255632Z",
     "start_time": "2019-02-01T02:29:51.188523Z"
    }
   },
   "outputs": [
    {
     "name": "stdout",
     "output_type": "stream",
     "text": [
      "Accuracy =  0.9508 - ROC = 0.9348 - CV mean = 0.8608\n"
     ]
    }
   ],
   "source": [
    "clf = SVC(random_state=42 , C= 0.01, degree= 2, kernel= 'linear')\n",
    "train(clf, x_train, y_train, x_test, y_test)"
   ]
  },
  {
   "cell_type": "code",
   "execution_count": 46,
   "metadata": {
    "ExecuteTime": {
     "end_time": "2019-02-01T02:21:34.047939Z",
     "start_time": "2019-02-01T02:21:33.984271Z"
    }
   },
   "outputs": [
    {
     "name": "stdout",
     "output_type": "stream",
     "text": [
      "Accuracy =  0.8852 - ROC = 0.8736 - CV mean = 0.7595\n"
     ]
    }
   ],
   "source": [
    "clf = SVC(random_state=42 , C = 10, kernel = 'poly', degree = 7) \n",
    "train(clf, x_train, y_train, x_test, y_test)"
   ]
  },
  {
   "cell_type": "markdown",
   "metadata": {},
   "source": [
    "## Logistic Regression"
   ]
  },
  {
   "cell_type": "code",
   "execution_count": 72,
   "metadata": {
    "ExecuteTime": {
     "end_time": "2019-02-01T02:28:37.438015Z",
     "start_time": "2019-02-01T02:28:37.433858Z"
    }
   },
   "outputs": [],
   "source": [
    "def lr_param_selection(X, y, nfolds):\n",
    "    Cs = [0.001, 0.01, 0.1, 1, 10, 100]\n",
    "    dual = [False, True]\n",
    "#     solvers = [ 'liblinear'] \n",
    "#     reg = ['l1', 'l2']\n",
    "    param_grid = {'C': Cs ,\n",
    "                  'dual': dual\n",
    "                 }\n",
    "\n",
    "    grid_search = GridSearchCV(LogisticRegression(), param_grid, cv=nfolds)\n",
    "    grid_search.fit(X, y)\n",
    "    grid_search.best_params_\n",
    "    return grid_search.best_params_\n"
   ]
  },
  {
   "cell_type": "code",
   "execution_count": 76,
   "metadata": {
    "ExecuteTime": {
     "end_time": "2019-02-01T02:29:08.339835Z",
     "start_time": "2019-02-01T02:29:07.838859Z"
    }
   },
   "outputs": [
    {
     "name": "stdout",
     "output_type": "stream",
     "text": [
      "Accuracy =  0.9344 - ROC = 0.9216 - CV mean = 0.7987\n"
     ]
    }
   ],
   "source": [
    "best_lr_params = lr_param_selection(x_train, y_train, 10)\n",
    "best_lr_params # were {'C': 0.001, 'dual': False, 'solver': 'newton-cg'}\n",
    "lr = LogisticRegression(random_state=42, C = 10, dual= False)\n",
    "train(lr, x_train, y_train, x_test, y_test)"
   ]
  },
  {
   "cell_type": "markdown",
   "metadata": {
    "heading_collapsed": true
   },
   "source": [
    "# Genetic Algorithm for choosing the best pipeline"
   ]
  },
  {
   "cell_type": "code",
   "execution_count": 22,
   "metadata": {
    "ExecuteTime": {
     "end_time": "2019-01-31T19:34:45.003285Z",
     "start_time": "2019-01-31T19:34:45.001309Z"
    },
    "hidden": true
   },
   "outputs": [],
   "source": [
    "# from tpot import TPOTClassifier"
   ]
  },
  {
   "cell_type": "code",
   "execution_count": 23,
   "metadata": {
    "ExecuteTime": {
     "end_time": "2019-01-31T19:34:45.009724Z",
     "start_time": "2019-01-31T19:34:45.004896Z"
    },
    "hidden": true
   },
   "outputs": [],
   "source": [
    "# auto_ml = TPOTClassifier(generations = 20, population_size = 100, scoring = 'balanced_accuracy', n_jobs = 4, random_state = 42, warm_start = True, verbosity = 2)\n",
    "# auto_ml.fit(x_train, y_train)"
   ]
  },
  {
   "cell_type": "code",
   "execution_count": 24,
   "metadata": {
    "ExecuteTime": {
     "end_time": "2019-01-31T19:34:45.016260Z",
     "start_time": "2019-01-31T19:34:45.011864Z"
    },
    "hidden": true
   },
   "outputs": [],
   "source": [
    "# auto_ml.export('tpot_exported_pipeline.py')"
   ]
  },
  {
   "cell_type": "code",
   "execution_count": 25,
   "metadata": {
    "ExecuteTime": {
     "end_time": "2019-01-31T19:34:45.024092Z",
     "start_time": "2019-01-31T19:34:45.017711Z"
    },
    "hidden": true
   },
   "outputs": [],
   "source": [
    "# Best pipeline: \n",
    "# DecisionTreeClassifier(Normalizer(input_matrix, norm=max), criterion=gini, max_depth=6, min_samples_leaf=4, min_samples_split=4)"
   ]
  },
  {
   "cell_type": "markdown",
   "metadata": {},
   "source": [
    "# Visualization"
   ]
  },
  {
   "cell_type": "markdown",
   "metadata": {},
   "source": [
    " ## PCA"
   ]
  },
  {
   "cell_type": "code",
   "execution_count": 60,
   "metadata": {
    "ExecuteTime": {
     "end_time": "2019-02-01T02:24:14.650939Z",
     "start_time": "2019-02-01T02:24:14.503510Z"
    }
   },
   "outputs": [
    {
     "name": "stdout",
     "output_type": "stream",
     "text": [
      "(184, 3)\n"
     ]
    },
    {
     "data": {
      "text/plain": [
       "<matplotlib.collections.PathCollection at 0x7f0c0b4800f0>"
      ]
     },
     "execution_count": 60,
     "metadata": {},
     "output_type": "execute_result"
    },
    {
     "data": {
      "image/png": "[encoded data removed]",
      "text/plain": [
       "<Figure size 432x288 with 1 Axes>"
      ]
     },
     "metadata": {
      "needs_background": "light"
     },
     "output_type": "display_data"
    }
   ],
   "source": [
    "pca = PCA(n_components=3)\n",
    "pca_result = pca.fit_transform(x)\n",
    "print(pca_result.shape)\n",
    "df = df_main.copy()\n",
    "df['pca-one'] = pca_result[:,0]\n",
    "df['pca-two'] = pca_result[:,1] \n",
    "df['pca-three'] = pca_result[:,2]\n",
    "\n",
    "\n",
    "plt.scatter(df['pca-one'], df['pca-two'], c = df_y.values.reshape(-1,))"
   ]
  },
  {
   "cell_type": "code",
   "execution_count": 61,
   "metadata": {
    "ExecuteTime": {
     "end_time": "2019-02-01T02:24:25.452513Z",
     "start_time": "2019-02-01T02:24:25.440278Z"
    }
   },
   "outputs": [
    {
     "data": {
      "text/plain": [
       "PCA(copy=True, iterated_power='auto', n_components=184, random_state=None,\n",
       "  svd_solver='auto', tol=0.0, whiten=False)"
      ]
     },
     "execution_count": 61,
     "metadata": {},
     "output_type": "execute_result"
    }
   ],
   "source": [
    "pca = PCA(n_components=184)\n",
    "pca.fit(x, y)"
   ]
  },
  {
   "cell_type": "code",
   "execution_count": 62,
   "metadata": {
    "ExecuteTime": {
     "end_time": "2019-02-01T02:24:26.390672Z",
     "start_time": "2019-02-01T02:24:26.380498Z"
    }
   },
   "outputs": [
    {
     "data": {
      "text/plain": [
       "(184, 184)"
      ]
     },
     "execution_count": 62,
     "metadata": {},
     "output_type": "execute_result"
    }
   ],
   "source": [
    "pca.components_.shape"
   ]
  },
  {
   "cell_type": "code",
   "execution_count": 65,
   "metadata": {
    "ExecuteTime": {
     "end_time": "2019-02-01T02:24:49.255669Z",
     "start_time": "2019-02-01T02:24:49.090410Z"
    }
   },
   "outputs": [
    {
     "data": {
      "text/plain": [
       "<mpl_toolkits.mplot3d.art3d.Path3DCollection at 0x7f0c0a39a2e8>"
      ]
     },
     "execution_count": 65,
     "metadata": {},
     "output_type": "execute_result"
    },
    {
     "data": {
      "image/png": "[encoded data removed]",
      "text/plain": [
       "<Figure size 432x288 with 1 Axes>"
      ]
     },
     "metadata": {
      "needs_background": "light"
     },
     "output_type": "display_data"
    }
   ],
   "source": [
    "from mpl_toolkits.mplot3d import axes3d\n",
    "\n",
    "fig = plt.figure()\n",
    "ax = fig.add_subplot(1, 1, 1)\n",
    "ax = fig.gca(projection='3d')\n",
    "ax.scatter(df['pca-one'], df['pca-two'], df['pca-three'], alpha=0.8, c=df_y.values.reshape(-1,), edgecolors='none', s=30)"
   ]
  },
  {
   "cell_type": "markdown",
   "metadata": {
    "ExecuteTime": {
     "end_time": "2019-01-31T19:34:45.378437Z",
     "start_time": "2019-01-31T19:34:45.376820Z"
    }
   },
   "source": [
    "## t-SNE"
   ]
  },
  {
   "cell_type": "code",
   "execution_count": 69,
   "metadata": {
    "ExecuteTime": {
     "end_time": "2019-02-01T02:25:33.492768Z",
     "start_time": "2019-02-01T02:25:33.144367Z"
    },
    "scrolled": true
   },
   "outputs": [
    {
     "name": "stdout",
     "output_type": "stream",
     "text": [
      "[t-SNE] Computing 121 nearest neighbors...\n",
      "[t-SNE] Indexed 184 samples in 0.000s...\n",
      "[t-SNE] Computed neighbors for 184 samples in 0.005s...\n",
      "[t-SNE] Computed conditional probabilities for sample 184 / 184\n",
      "[t-SNE] Mean sigma: 10.232167\n",
      "[t-SNE] KL divergence after 250 iterations with early exaggeration: 62.275612\n",
      "[t-SNE] KL divergence after 300 iterations: 1.127516\n"
     ]
    },
    {
     "data": {
      "text/plain": [
       "<matplotlib.collections.PathCollection at 0x7f0c0a2eb908>"
      ]
     },
     "execution_count": 69,
     "metadata": {},
     "output_type": "execute_result"
    },
    {
     "data": {
      "image/png": "[encoded data removed]",
      "text/plain": [
       "<Figure size 432x288 with 1 Axes>"
      ]
     },
     "metadata": {
      "needs_background": "light"
     },
     "output_type": "display_data"
    }
   ],
   "source": [
    "n_sne = 7000\n",
    "\n",
    "tsne = TSNE(n_components=2, verbose=1, perplexity=40, n_iter=300)\n",
    "tsne_results = tsne.fit_transform(x)\n",
    "\n",
    "plt.scatter(tsne_results[:,0], tsne_results[:,1], c = df_y.values.reshape(-1,))"
   ]
  },
  {
   "cell_type": "markdown",
   "metadata": {
    "ExecuteTime": {
     "end_time": "2019-01-31T15:09:23.894966Z",
     "start_time": "2019-01-31T15:09:23.888407Z"
    }
   },
   "source": [
    "## ISOMAP"
   ]
  },
  {
   "cell_type": "code",
   "execution_count": 71,
   "metadata": {
    "ExecuteTime": {
     "end_time": "2019-02-01T02:26:08.074925Z",
     "start_time": "2019-02-01T02:26:07.946538Z"
    }
   },
   "outputs": [
    {
     "data": {
      "image/png": "[encoded data removed]",
      "text/plain": [
       "<Figure size 432x288 with 1 Axes>"
      ]
     },
     "metadata": {
      "needs_background": "light"
     },
     "output_type": "display_data"
    }
   ],
   "source": [
    "n_neighbors = 10\n",
    "n_components = 2\n",
    "y_iso = Isomap(n_neighbors, n_components).fit_transform(x)\n",
    "\n",
    "ax = fig.add_subplot(111)\n",
    "plt.scatter(y_iso[:, 0], y_iso[:, 1], c=y.reshape(-1,))#, cmap=plt.cm.Spectral)\n",
    "\n",
    "plt.axis('tight')\n",
    "plt.show()"
   ]
  },
  {
   "cell_type": "markdown",
   "metadata": {},
   "source": [
    "# Feature selection"
   ]
  },
  {
   "cell_type": "markdown",
   "metadata": {
    "heading_collapsed": true
   },
   "source": [
    "## F-Test"
   ]
  },
  {
   "cell_type": "markdown",
   "metadata": {
    "hidden": true
   },
   "source": [
    "F-Test is useful in feature selection as we get to know the significance of each feature in improving the model."
   ]
  },
  {
   "cell_type": "code",
   "execution_count": 49,
   "metadata": {
    "ExecuteTime": {
     "end_time": "2019-02-01T02:22:00.728105Z",
     "start_time": "2019-02-01T02:22:00.719479Z"
    },
    "hidden": true
   },
   "outputs": [
    {
     "data": {
      "text/plain": [
       "array([  4,  19, 174, 151,  32, 112, 143,  46, 134, 133, 120,  10,   3,\n",
       "        57, 179,  78, 144,  37,  73, 148,  59,   2, 178,  29, 161,  44,\n",
       "       181,  47,   6, 125,  33,  51, 180,  12, 136, 182,  31,  62,  95,\n",
       "       108, 124, 157, 135,  48,  76, 118,  23,  26, 145,  36,  16,  65,\n",
       "        68,  80,  60,  97, 109, 132,  25,  92, 140,  79,  52,  58,  56,\n",
       "       155,  35, 139,  11, 170, 156, 121, 166, 169,  67,  21, 138,   0,\n",
       "        15, 150, 126, 149, 130,  39, 129, 146,  40,  17,  69, 110,  30,\n",
       "        42, 101,  13, 172, 159, 183,  53,  55,  93, 106, 117,  77, 105,\n",
       "         7,  86, 152,  89,  41,  91,  71, 107,  22, 168,  84, 141,  74,\n",
       "        72, 115, 173, 176,  34, 111, 102,  81, 137,  43, 116,   1,  90,\n",
       "       114, 142, 154, 123, 103,   5,  98,  18, 153,  50, 175, 104,  63,\n",
       "       100,  87,  61, 127,  20, 177,  82,  75, 158,  24, 163,   9, 119,\n",
       "        64,  70, 164,  66,  85,  45,  14,  49, 131,  28, 122, 167, 160,\n",
       "       171,   8,  88,  27,  54, 128,  99,  96, 162, 165,  83,  38,  94,\n",
       "       113, 147])"
      ]
     },
     "execution_count": 49,
     "metadata": {},
     "output_type": "execute_result"
    }
   ],
   "source": [
    "F, pval = f_classif(x, y)\n",
    "idx = np.argsort(-F)\n",
    "idx"
   ]
  },
  {
   "cell_type": "code",
   "execution_count": 54,
   "metadata": {
    "ExecuteTime": {
     "end_time": "2019-02-01T02:22:45.837346Z",
     "start_time": "2019-02-01T02:22:45.830084Z"
    },
    "hidden": true
   },
   "outputs": [],
   "source": [
    "df_new = df_lasso.iloc[:,idx[0:100]]\n",
    "# df_new['y'] = df_y[0:]\n",
    "\n",
    "# x_red = df_new.drop(['y'], axis = 1).values\n",
    "y_red = np.array(df_y.values)\n",
    "\n",
    "# df_new.head()\n",
    "x_train_red, x_test_red, y_train_red, y_test_red = train_test_split(x_red, y_red, test_size=0.33, random_state=42)"
   ]
  },
  {
   "cell_type": "code",
   "execution_count": 55,
   "metadata": {
    "ExecuteTime": {
     "end_time": "2019-02-01T02:22:47.091815Z",
     "start_time": "2019-02-01T02:22:47.025343Z"
    },
    "hidden": true
   },
   "outputs": [
    {
     "name": "stdout",
     "output_type": "stream",
     "text": [
      "Accuracy =  0.7869 - ROC = 0.7431 - CV mean = 0.7825\n"
     ]
    }
   ],
   "source": [
    "lr = LogisticRegression(random_state=42, dual =True) # best one till now\n",
    "train(lr, x_train_red, y_train_red, x_test_red, y_test_red)\n",
    "\n",
    "# xgb = XGBClassifier(learning_rate=0.1, n_estimators=100)\n",
    "# train(xgb, x_train_red, y_train_red, x_test_red, y_test_red)"
   ]
  },
  {
   "cell_type": "code",
   "execution_count": 56,
   "metadata": {
    "ExecuteTime": {
     "end_time": "2019-02-01T02:22:54.016139Z",
     "start_time": "2019-02-01T02:22:53.971510Z"
    },
    "hidden": true
   },
   "outputs": [
    {
     "name": "stdout",
     "output_type": "stream",
     "text": [
      "Accuracy =  0.7705 - ROC = 0.7557 - CV mean = 0.76\n"
     ]
    }
   ],
   "source": [
    "# best_params = svc_param_selection(x_train_red, y_train_red, 10)\n",
    "# best_params # were {'C': 0.001, 'degree': 5, 'kernel': 'poly'}\n",
    "clf = SVC(C = 0.001, kernel = 'poly', degree = 5)\n",
    "train(clf, x_train_red, y_train_red, x_test_red, y_test_red)"
   ]
  },
  {
   "cell_type": "code",
   "execution_count": 40,
   "metadata": {
    "ExecuteTime": {
     "end_time": "2019-01-31T19:34:46.289417Z",
     "start_time": "2019-01-31T19:34:46.284506Z"
    },
    "hidden": true
   },
   "outputs": [],
   "source": [
    "# num_feats = np.linspace(100, 3000, 30)\n",
    "\n",
    "# for f in num_feats:\n",
    "#     df_new = df_main.iloc[:,idx[0:int(f)]]\n",
    "#     df_new['y'] = df_y[0:]\n",
    "\n",
    "#     x_red = df_new.drop(['y'], axis = 1).values\n",
    "#     y_red = np.array(df_new.y.values)\n",
    "\n",
    "#     x_train_red, x_test_red, y_train_red, y_test_red = train_test_split(x, y, test_size=0.33, random_state=42)\n",
    "\n",
    "#     lr = LogisticRegression(random_state=42, dual =True) # best one till now\n",
    "#     lr.fit(x_train_red, y_train_red)\n",
    "#     pred = lr.predict(x_test_red)\n",
    "#     print(f'for num_feats = {f} - Accuracy = {lr.score(x_test, y_test):.4f} - ROC = {roc_auc_score(y_test, pred):.4f}')\n"
   ]
  },
  {
   "cell_type": "markdown",
   "metadata": {
    "heading_collapsed": true
   },
   "source": [
    "## Mututal Information"
   ]
  },
  {
   "cell_type": "code",
   "execution_count": 41,
   "metadata": {
    "ExecuteTime": {
     "end_time": "2019-01-31T19:34:54.444956Z",
     "start_time": "2019-01-31T19:34:46.290585Z"
    },
    "hidden": true,
    "scrolled": true
   },
   "outputs": [],
   "source": [
    "mi = mutual_info_classif(x, y)"
   ]
  },
  {
   "cell_type": "code",
   "execution_count": 42,
   "metadata": {
    "ExecuteTime": {
     "end_time": "2019-01-31T19:34:54.448808Z",
     "start_time": "2019-01-31T19:34:54.446173Z"
    },
    "hidden": true
   },
   "outputs": [
    {
     "data": {
      "text/plain": [
       "(4654,)"
      ]
     },
     "execution_count": 42,
     "metadata": {},
     "output_type": "execute_result"
    }
   ],
   "source": [
    "mi.shape"
   ]
  },
  {
   "cell_type": "code",
   "execution_count": 43,
   "metadata": {
    "ExecuteTime": {
     "end_time": "2019-01-31T19:34:54.456449Z",
     "start_time": "2019-01-31T19:34:54.449911Z"
    },
    "hidden": true
   },
   "outputs": [
    {
     "data": {
      "text/plain": [
       "array([3985, 4456, 3100, ..., 1417, 3044,    0])"
      ]
     },
     "execution_count": 43,
     "metadata": {},
     "output_type": "execute_result"
    }
   ],
   "source": [
    "idx_mi = np.argsort(-mi)\n",
    "idx_mi"
   ]
  },
  {
   "cell_type": "code",
   "execution_count": 108,
   "metadata": {
    "ExecuteTime": {
     "end_time": "2019-02-01T01:28:54.492761Z",
     "start_time": "2019-02-01T01:28:54.407383Z"
    },
    "hidden": true
   },
   "outputs": [
    {
     "name": "stdout",
     "output_type": "stream",
     "text": [
      "Accuracy =  0.7049 - ROC = 0.7288\n"
     ]
    },
    {
     "data": {
      "text/plain": [
       "0.58285714285714285"
      ]
     },
     "execution_count": 108,
     "metadata": {},
     "output_type": "execute_result"
    }
   ],
   "source": [
    "df_new = df_main.iloc[:,idx_mi[0:100]]\n",
    "df_new['y'] = df_y[0:]\n",
    "\n",
    "x_red = df_new.drop(['y'], axis = 1).values\n",
    "y_red = np.array(df_new.y.values)\n",
    "\n",
    "x_train_red, x_test_red, y_train_red, y_test_red = train_test_split(x_red, y_red, test_size=0.33, random_state=42)\n",
    "\n",
    "lr = LogisticRegression(random_state=42, dual =True) # best one till now\n",
    "train(lr, x_train_red, y_train_red, x_test_red, y_test_red)\n",
    "kfold = KFold(n_splits=10, random_state=42)\n",
    "result = cross_val_score(lr, x_train_red, y_train_red, cv=kfold, scoring='balanced_accuracy')\n",
    "result.mean()"
   ]
  },
  {
   "cell_type": "markdown",
   "metadata": {
    "ExecuteTime": {
     "end_time": "2019-01-31T15:18:22.481772Z",
     "start_time": "2019-01-31T15:18:22.479026Z"
    },
    "heading_collapsed": true
   },
   "source": [
    "## Chi"
   ]
  },
  {
   "cell_type": "code",
   "execution_count": 45,
   "metadata": {
    "ExecuteTime": {
     "end_time": "2019-01-31T19:34:54.511491Z",
     "start_time": "2019-01-31T19:34:54.508834Z"
    },
    "hidden": true
   },
   "outputs": [],
   "source": [
    "from sklearn.feature_selection import chi2"
   ]
  },
  {
   "cell_type": "code",
   "execution_count": 107,
   "metadata": {
    "ExecuteTime": {
     "end_time": "2019-02-01T01:28:40.332839Z",
     "start_time": "2019-02-01T01:28:40.246905Z"
    },
    "hidden": true,
    "scrolled": true
   },
   "outputs": [
    {
     "name": "stdout",
     "output_type": "stream",
     "text": [
      "Accuracy =  0.7213 - ROC = 0.6819\n"
     ]
    },
    {
     "data": {
      "text/plain": [
       "0.71640873015873019"
      ]
     },
     "execution_count": 107,
     "metadata": {},
     "output_type": "execute_result"
    }
   ],
   "source": [
    "chi_scores, _ = chi2(x, y)\n",
    "\n",
    "idx_chi = np.argsort(-chi_scores)\n",
    "df_new = df_main.iloc[:,idx_chi[0:100]]\n",
    "df_new['y'] = df_y[0:]\n",
    "\n",
    "x_red = df_new.drop(['y'], axis = 1).values\n",
    "y_red = np.array(df_new.y.values)\n",
    "\n",
    "x_train_red, x_test_red, y_train_red, y_test_red = train_test_split(x_red, y_red, test_size=0.33, random_state=42)\n",
    "\n",
    "lr = LogisticRegression(random_state=42, dual =True) # best one till now\n",
    "train(lr, x_train_red, y_train_red, x_test_red, y_test_red)\n",
    "\n",
    "kfold = KFold(n_splits=10, random_state=42)\n",
    "result = cross_val_score(lr, x_train_red, y_train_red, cv=kfold, scoring='balanced_accuracy')\n",
    "result.mean()"
   ]
  },
  {
   "cell_type": "markdown",
   "metadata": {
    "heading_collapsed": true
   },
   "source": [
    "## Variance Threshold"
   ]
  },
  {
   "cell_type": "code",
   "execution_count": 47,
   "metadata": {
    "ExecuteTime": {
     "end_time": "2019-01-31T19:34:54.579240Z",
     "start_time": "2019-01-31T19:34:54.576160Z"
    },
    "hidden": true
   },
   "outputs": [],
   "source": [
    "from sklearn.feature_selection import VarianceThreshold"
   ]
  },
  {
   "cell_type": "code",
   "execution_count": 48,
   "metadata": {
    "ExecuteTime": {
     "end_time": "2019-01-31T19:34:54.590121Z",
     "start_time": "2019-01-31T19:34:54.581255Z"
    },
    "hidden": true
   },
   "outputs": [],
   "source": [
    "sel = VarianceThreshold()\n",
    "selected_feats = sel.fit_transform(x)"
   ]
  },
  {
   "cell_type": "code",
   "execution_count": 49,
   "metadata": {
    "ExecuteTime": {
     "end_time": "2019-01-31T19:34:54.594481Z",
     "start_time": "2019-01-31T19:34:54.591466Z"
    },
    "hidden": true
   },
   "outputs": [
    {
     "data": {
      "text/plain": [
       "(184, 4654)"
      ]
     },
     "execution_count": 49,
     "metadata": {},
     "output_type": "execute_result"
    }
   ],
   "source": [
    "selected_feats.shape"
   ]
  },
  {
   "cell_type": "markdown",
   "metadata": {},
   "source": [
    "## Other"
   ]
  },
  {
   "cell_type": "code",
   "execution_count": 110,
   "metadata": {
    "ExecuteTime": {
     "end_time": "2019-02-01T01:30:47.865288Z",
     "start_time": "2019-02-01T01:30:38.079747Z"
    }
   },
   "outputs": [
    {
     "name": "stdout",
     "output_type": "stream",
     "text": [
      "Accuracy =  -0.06459 - ROC = 0.4153\n"
     ]
    }
   ],
   "source": [
    "# clf = Pipeline([\n",
    "#   ('feature_selection', SelectFromModel(LassoCV())),\n",
    "#   ('classification', RandomForestClassifier())\n",
    "# ])\n",
    "\n",
    "ls = LassoCV()\n",
    "ls.fit(x_train, y_train)\n",
    "train(ls, x_train, y_train, x_test, y_test)\n",
    "\n",
    "# train(lr, x_train_red, y_train_red, x_test_red, y_test_red)"
   ]
  },
  {
   "cell_type": "code",
   "execution_count": 112,
   "metadata": {
    "ExecuteTime": {
     "end_time": "2019-02-01T01:37:00.198271Z",
     "start_time": "2019-02-01T01:33:57.744870Z"
    }
   },
   "outputs": [],
   "source": [
    "# from sklearn.feature_selection import RFECV\n",
    "# model = LogisticRegression() \n",
    "# rfe = RFECV(model, 3)\n",
    "\n",
    "# fit = rfe.fit(x_train, y_train)"
   ]
  },
  {
   "cell_type": "code",
   "execution_count": 114,
   "metadata": {
    "ExecuteTime": {
     "end_time": "2019-02-01T01:38:35.946323Z",
     "start_time": "2019-02-01T01:38:35.942789Z"
    }
   },
   "outputs": [
    {
     "data": {
      "text/plain": [
       "1"
      ]
     },
     "execution_count": 114,
     "metadata": {},
     "output_type": "execute_result"
    }
   ],
   "source": [
    "# fit.min_features_to_select"
   ]
  },
  {
   "cell_type": "code",
   "execution_count": null,
   "metadata": {},
   "outputs": [],
   "source": []
  },
  {
   "cell_type": "code",
   "execution_count": 115,
   "metadata": {
    "ExecuteTime": {
     "end_time": "2019-02-01T01:39:38.607020Z",
     "start_time": "2019-02-01T01:39:38.492843Z"
    }
   },
   "outputs": [
    {
     "name": "stdout",
     "output_type": "stream",
     "text": [
      "Accuracy =  0.6556 - ROC = 0.6556\n",
      "{'alpha': 1e-05}\n"
     ]
    }
   ],
   "source": [
    "from sklearn.linear_model import SGDClassifier\n",
    "tuned_parameters = {'alpha': [10 ** a for a in range(-6, -2)]}\n",
    "sgd = SGDClassifier(loss='log', penalty='elasticnet',l1_ratio=0.15, n_iter=5, shuffle=True, verbose=False, n_jobs=10, average=False, class_weight='balanced')\n",
    "clf = GridSearchCV(SGDClassifier('log')\n",
    "                  , tuned_parameters, cv=10, scoring='balanced_accuracy')\n",
    "\n",
    "#now clf is the best classifier found given the search space\n",
    "train(clf, x_train_red, y_train_red, x_test_red, y_test_red)\n",
    "#you can find the best alpha here\n",
    "print(clf.best_params_)   \n"
   ]
  },
  {
   "cell_type": "code",
   "execution_count": 159,
   "metadata": {
    "ExecuteTime": {
     "end_time": "2019-02-01T01:58:56.959694Z",
     "start_time": "2019-02-01T01:58:56.956997Z"
    }
   },
   "outputs": [],
   "source": [
    "# sgd.fit(x_train_red, y_train_red)\n",
    "# sgd.coef_.shape\n",
    "# np.argsort(-sgd.coef_)"
   ]
  },
  {
   "cell_type": "markdown",
   "metadata": {},
   "source": [
    "# Feature Engineering"
   ]
  },
  {
   "cell_type": "code",
   "execution_count": 52,
   "metadata": {
    "ExecuteTime": {
     "end_time": "2019-01-31T19:34:54.839793Z",
     "start_time": "2019-01-31T19:34:54.615653Z"
    }
   },
   "outputs": [],
   "source": [
    "import featuretools as ft"
   ]
  },
  {
   "cell_type": "code",
   "execution_count": 53,
   "metadata": {
    "ExecuteTime": {
     "end_time": "2019-01-31T19:34:54.846762Z",
     "start_time": "2019-01-31T19:34:54.841047Z"
    }
   },
   "outputs": [],
   "source": [
    "df = df.reset_index()"
   ]
  },
  {
   "cell_type": "code",
   "execution_count": 54,
   "metadata": {
    "ExecuteTime": {
     "end_time": "2019-01-31T19:34:54.851655Z",
     "start_time": "2019-01-31T19:34:54.848091Z"
    }
   },
   "outputs": [],
   "source": [
    "es = ft.EntitySet(id='main_df')"
   ]
  },
  {
   "cell_type": "code",
   "execution_count": 55,
   "metadata": {
    "ExecuteTime": {
     "end_time": "2019-01-31T19:34:56.942897Z",
     "start_time": "2019-01-31T19:34:54.852872Z"
    },
    "scrolled": true
   },
   "outputs": [
    {
     "name": "stdout",
     "output_type": "stream",
     "text": [
      "2019-01-31 21:34:54,859 featuretools.entityset - WARNING    ('Using first column as index. ', 'To change this, specify the index parameter')\n"
     ]
    }
   ],
   "source": [
    "es = es.entity_from_dataframe(entity_id= 'main_df', dataframe=df)#, make_index=False)"
   ]
  }
 ],
 "metadata": {
  "kernelspec": {
   "display_name": "Python (ml)",
   "language": "python",
   "name": "ml"
  },
  "language_info": {
   "codemirror_mode": {
    "name": "ipython",
    "version": 3
   },
   "file_extension": ".py",
   "mimetype": "text/x-python",
   "name": "python",
   "nbconvert_exporter": "python",
   "pygments_lexer": "ipython3",
   "version": "3.6.8"
  },
  "toc": {
   "base_numbering": 1,
   "nav_menu": {},
   "number_sections": true,
   "sideBar": true,
   "skip_h1_title": false,
   "title_cell": "Table of Contents",
   "title_sidebar": "Contents",
   "toc_cell": false,
   "toc_position": {},
   "toc_section_display": true,
   "toc_window_display": false
  },
  "varInspector": {
   "cols": {
    "lenName": 16,
    "lenType": 16,
    "lenVar": 40
   },
   "kernels_config": {
    "python": {
     "delete_cmd_postfix": "",
     "delete_cmd_prefix": "del ",
     "library": "var_list.py",
     "varRefreshCmd": "print(var_dic_list())"
    },
    "r": {
     "delete_cmd_postfix": ") ",
     "delete_cmd_prefix": "rm(",
     "library": "var_list.r",
     "varRefreshCmd": "cat(var_dic_list()) "
    }
   },
   "types_to_exclude": [
    "module",
    "function",
    "builtin_function_or_method",
    "instance",
    "_Feature"
   ],
   "window_display": false
  }
 },
 "nbformat": 4,
 "nbformat_minor": 2
}
