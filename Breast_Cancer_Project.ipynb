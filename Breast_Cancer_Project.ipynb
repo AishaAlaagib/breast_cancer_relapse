{
 "cells": [
  {
   "cell_type": "markdown",
   "metadata": {
    "heading_collapsed": true
   },
   "source": [
    "# Read the Data"
   ]
  },
  {
   "cell_type": "code",
   "execution_count": 1,
   "metadata": {
    "ExecuteTime": {
     "end_time": "2019-02-01T10:59:01.331633Z",
     "start_time": "2019-02-01T10:59:00.709317Z"
    },
    "hidden": true
   },
   "outputs": [],
   "source": [
    "from sklearn.feature_selection import mutual_info_classif, f_classif, SelectFromModel\n",
    "import warnings\n",
    "from sklearn.manifold import TSNE\n",
    "from sklearn.decomposition import PCA\n",
    "import pandas as pd\n",
    "import numpy as np\n",
    "from sklearn.model_selection import GridSearchCV, KFold, cross_val_score, train_test_split\n",
    "from sklearn.ensemble import RandomForestClassifier\n",
    "from sklearn.tree import DecisionTreeClassifier\n",
    "from sklearn.svm import SVC, LinearSVC\n",
    "from sklearn.linear_model import LogisticRegression, Lasso\n",
    "from sklearn.neighbors import KNeighborsClassifier\n",
    "from xgboost import XGBClassifier\n",
    "from lightgbm import LGBMClassifier\n",
    "from sklearn.metrics import roc_auc_score\n",
    "from sklearn.manifold import Isomap\n",
    "import matplotlib.pyplot as plt\n",
    "from sklearn import preprocessing\n",
    "from collections import Counter\n",
    "from sklearn.datasets import make_classification\n",
    "# doctest: +NORMALIZE_WHITESPACE\n",
    "from imblearn.under_sampling import RandomUnderSampler\n",
    "from imblearn.over_sampling import SMOTE\n",
    "\n",
    "%matplotlib inline\n",
    "\n",
    "warnings.filterwarnings('ignore')"
   ]
  },
  {
   "cell_type": "code",
   "execution_count": 2,
   "metadata": {
    "ExecuteTime": {
     "end_time": "2019-02-01T10:59:03.257569Z",
     "start_time": "2019-02-01T10:59:03.080672Z"
    },
    "hidden": true,
    "scrolled": true
   },
   "outputs": [
    {
     "data": {
      "text/plain": [
       "-1    118\n",
       " 1     66\n",
       "Name: 0, dtype: int64"
      ]
     },
     "execution_count": 2,
     "metadata": {},
     "output_type": "execute_result"
    }
   ],
   "source": [
    "df_main = pd.read_csv('xtrain.txt', header = None, sep = '\\t', index_col = 0)\n",
    "df_test = pd.read_csv('xtest.txt', header = None, sep = '\\t', index_col = 0)\n",
    "# df_main.set_index(0, inplace = True)\n",
    "df_main = df_main.transpose()\n",
    "df_test = df_test.transpose()\n",
    "df_main.head()\n",
    "\n",
    "# Read the y values\n",
    "df_y = pd.read_csv('ytrain.txt', header = None)\n",
    "df_y.index = 1+np.arange(184)\n",
    "\n",
    "df_y.iloc[:,0].value_counts()"
   ]
  },
  {
   "cell_type": "code",
   "execution_count": null,
   "metadata": {
    "ExecuteTime": {
     "end_time": "2019-02-01T10:52:14.512927Z",
     "start_time": "2019-02-01T10:52:14.511350Z"
    },
    "hidden": true
   },
   "outputs": [],
   "source": [
    "# Save the data\n",
    "# df_main.to_csv('breast_genes.csv', index = False)"
   ]
  },
  {
   "cell_type": "markdown",
   "metadata": {
    "heading_collapsed": true
   },
   "source": [
    "# Handle class imbalance"
   ]
  },
  {
   "cell_type": "code",
   "execution_count": 3,
   "metadata": {
    "ExecuteTime": {
     "end_time": "2019-02-01T10:59:08.064525Z",
     "start_time": "2019-02-01T10:59:07.951655Z"
    },
    "hidden": true
   },
   "outputs": [
    {
     "name": "stdout",
     "output_type": "stream",
     "text": [
      "Original dataset shape Counter({-1: 118, 1: 66})\n",
      "Original dataset shape Counter({-1: 118, 1: 118})\n"
     ]
    }
   ],
   "source": [
    "print('Original dataset shape %s' % Counter(df_y.values.reshape(-1,)))\n",
    "rus = SMOTE(random_state=42)\n",
    "x_res, y_res = rus.fit_resample(df_main.values, df_y.values)\n",
    "\n",
    "print('Original dataset shape %s' % Counter(y_res))"
   ]
  },
  {
   "cell_type": "markdown",
   "metadata": {
    "heading_collapsed": true
   },
   "source": [
    "# Feature Selection with Lasso"
   ]
  },
  {
   "cell_type": "code",
   "execution_count": 4,
   "metadata": {
    "ExecuteTime": {
     "end_time": "2019-02-01T10:59:42.768196Z",
     "start_time": "2019-02-01T10:59:41.502224Z"
    },
    "hidden": true
   },
   "outputs": [],
   "source": [
    "lass = Lasso(\n",
    "        max_iter=3000,\n",
    "        alpha= 0.00281,\n",
    "        random_state= 42 \n",
    "        )\n",
    "lass.fit(df_main, df_y)\n",
    "lass.coef_.min(), lass.coef_.max()\n",
    "\n",
    "# selected features\n",
    "good_features = np.abs(np.array(lass.coef_)) > 0\n",
    "\n",
    "\n",
    "# df_lasso = df_main.iloc[:, good_features]\n",
    "df_lasso = x_res[:, good_features]\n",
    "# df_y.index = 1+np.arange(184)\n",
    "\n",
    "# df_all = df_lasso.copy()\n",
    "# df_all['y'] = df_y[0:]\n",
    "# df_all.to_csv('breast_genes_lasso_all.csv', index = False)"
   ]
  },
  {
   "cell_type": "code",
   "execution_count": 5,
   "metadata": {
    "ExecuteTime": {
     "end_time": "2019-02-01T10:59:44.140180Z",
     "start_time": "2019-02-01T10:59:44.137533Z"
    },
    "hidden": true
   },
   "outputs": [
    {
     "data": {
      "text/plain": [
       "(236, 184)"
      ]
     },
     "execution_count": 5,
     "metadata": {},
     "output_type": "execute_result"
    }
   ],
   "source": [
    "df_lasso.shape"
   ]
  },
  {
   "cell_type": "code",
   "execution_count": 6,
   "metadata": {
    "ExecuteTime": {
     "end_time": "2019-02-01T10:59:55.867591Z",
     "start_time": "2019-02-01T10:59:55.858383Z"
    },
    "hidden": true
   },
   "outputs": [
    {
     "data": {
      "text/plain": [
       "(236, 184)"
      ]
     },
     "execution_count": 6,
     "metadata": {},
     "output_type": "execute_result"
    }
   ],
   "source": [
    "# x = df_lasso.iloc[:,0:184]\n",
    "# y = np.array(df_y.values).reshape(-1,)\n",
    "\n",
    "x = df_lasso[:, 0:184]\n",
    "y = y_res\n",
    "scaler = preprocessing.StandardScaler()\n",
    "x = scaler.fit_transform(x)\n",
    "\n",
    "x_train, x_test, y_train, y_test = train_test_split(x, y, test_size=0.33, random_state=42, shuffle=True)\n",
    "x.shape"
   ]
  },
  {
   "cell_type": "markdown",
   "metadata": {
    "heading_collapsed": true
   },
   "source": [
    "# Applying Different Models"
   ]
  },
  {
   "cell_type": "code",
   "execution_count": 8,
   "metadata": {
    "ExecuteTime": {
     "end_time": "2019-02-01T11:00:31.065051Z",
     "start_time": "2019-02-01T11:00:31.053141Z"
    },
    "hidden": true
   },
   "outputs": [],
   "source": [
    "def train(model, xtrain, ytrain, xtest, ytest):\n",
    "    \n",
    "    model.fit(xtrain, ytrain)\n",
    "    pred = model.predict(xtest)\n",
    "    \n",
    "    kfold = KFold(n_splits=10)#, random_state=42)\n",
    "    result = cross_val_score(model, xtrain, ytrain, cv=kfold, scoring='balanced_accuracy')\n",
    "    print(f'Accuracy =  {model.score(xtest, ytest):.4} - ROC = {roc_auc_score(ytest, pred):.4} - CV mean = {result.mean():.4}')\n",
    "    "
   ]
  },
  {
   "cell_type": "code",
   "execution_count": null,
   "metadata": {
    "ExecuteTime": {
     "end_time": "2019-02-01T10:52:16.027240Z",
     "start_time": "2019-02-01T10:52:15.913507Z"
    },
    "hidden": true
   },
   "outputs": [],
   "source": [
    "# Random Forest with default number of estimators\n",
    "rf = RandomForestClassifier(random_state=42)\n",
    "train(rf, x_train, y_train, x_test, y_test)"
   ]
  },
  {
   "cell_type": "code",
   "execution_count": null,
   "metadata": {
    "ExecuteTime": {
     "end_time": "2019-02-01T10:52:16.242567Z",
     "start_time": "2019-02-01T10:52:16.028460Z"
    },
    "hidden": true
   },
   "outputs": [],
   "source": [
    "lgb = LGBMClassifier()\n",
    "train(lgb, x_train, y_train, x_test, y_test)"
   ]
  },
  {
   "cell_type": "code",
   "execution_count": null,
   "metadata": {
    "ExecuteTime": {
     "end_time": "2019-02-01T10:52:17.084445Z",
     "start_time": "2019-02-01T10:52:16.243987Z"
    },
    "hidden": true
   },
   "outputs": [],
   "source": [
    "# RandomForest with 100 estimators\n",
    "rf = RandomForestClassifier(n_estimators= 100, random_state=42)\n",
    "train(rf, x_train, y_train, x_test, y_test)"
   ]
  },
  {
   "cell_type": "code",
   "execution_count": null,
   "metadata": {
    "ExecuteTime": {
     "end_time": "2019-02-01T10:52:17.134783Z",
     "start_time": "2019-02-01T10:52:17.085582Z"
    },
    "hidden": true
   },
   "outputs": [],
   "source": [
    "# SVM with default parameters\n",
    "clf = SVC(random_state=42)\n",
    "train(clf, x_train, y_train, x_test, y_test)"
   ]
  },
  {
   "cell_type": "code",
   "execution_count": null,
   "metadata": {
    "ExecuteTime": {
     "end_time": "2019-02-01T10:52:17.188123Z",
     "start_time": "2019-02-01T10:52:17.137453Z"
    },
    "hidden": true
   },
   "outputs": [],
   "source": [
    "# SVM with default parameters\n",
    "clf = LinearSVC(random_state=42)\n",
    "train(clf, x_train, y_train, x_test, y_test)"
   ]
  },
  {
   "cell_type": "code",
   "execution_count": null,
   "metadata": {
    "ExecuteTime": {
     "end_time": "2019-02-01T10:52:17.234624Z",
     "start_time": "2019-02-01T10:52:17.191940Z"
    },
    "hidden": true
   },
   "outputs": [],
   "source": [
    "# Logistic Regression with default parameters\n",
    "lr = LogisticRegression(random_state=42)\n",
    "train(lr, x_train, y_train, x_test, y_test)"
   ]
  },
  {
   "cell_type": "code",
   "execution_count": null,
   "metadata": {
    "ExecuteTime": {
     "end_time": "2019-02-01T10:52:17.270050Z",
     "start_time": "2019-02-01T10:52:17.235812Z"
    },
    "hidden": true
   },
   "outputs": [],
   "source": [
    "# Logistic Regression with dual form \n",
    "lr = LogisticRegression(random_state=42, dual =True) # best one till now\n",
    "train(lr, x_train, y_train, x_test, y_test)"
   ]
  },
  {
   "cell_type": "code",
   "execution_count": null,
   "metadata": {
    "ExecuteTime": {
     "end_time": "2019-02-01T10:52:17.318988Z",
     "start_time": "2019-02-01T10:52:17.271397Z"
    },
    "hidden": true
   },
   "outputs": [],
   "source": [
    "# Logistic Regression with C = 0.01\n",
    "# C : Inverse of regularization strength; must be a positive float. \n",
    "# Like in support vector machines, smaller values specify stronger regularization.\n",
    "\n",
    "lr = LogisticRegression(random_state=42, C = 100)\n",
    "train(lr, x_train, y_train, x_test, y_test)"
   ]
  },
  {
   "cell_type": "code",
   "execution_count": null,
   "metadata": {
    "ExecuteTime": {
     "end_time": "2019-02-01T10:52:17.350443Z",
     "start_time": "2019-02-01T10:52:17.320247Z"
    },
    "hidden": true
   },
   "outputs": [],
   "source": [
    "# KNN with default params\n",
    "knn = KNeighborsClassifier()\n",
    "train(knn, x_train, y_train, x_test, y_test)"
   ]
  },
  {
   "cell_type": "code",
   "execution_count": null,
   "metadata": {
    "ExecuteTime": {
     "end_time": "2019-02-01T10:52:17.400779Z",
     "start_time": "2019-02-01T10:52:17.351567Z"
    },
    "hidden": true
   },
   "outputs": [],
   "source": [
    "# SVM with polynomial kernel\n",
    "clf = SVC(random_state=42 , C = 10, kernel = 'poly') # (sigmoid 62) and (rbf 65), (poly 70)\n",
    "train(clf, x_train, y_train, x_test, y_test)"
   ]
  },
  {
   "cell_type": "markdown",
   "metadata": {},
   "source": [
    "# Hyperparams Tuning for SVM"
   ]
  },
  {
   "cell_type": "markdown",
   "metadata": {
    "heading_collapsed": true
   },
   "source": [
    "## SVM"
   ]
  },
  {
   "cell_type": "code",
   "execution_count": null,
   "metadata": {
    "ExecuteTime": {
     "end_time": "2019-02-01T10:52:17.405855Z",
     "start_time": "2019-02-01T10:52:17.402205Z"
    },
    "hidden": true
   },
   "outputs": [],
   "source": [
    "def svc_param_selection(X, y, nfolds):\n",
    "    Cs = [0.001, 0.01, 0.1, 1, 10, 100]\n",
    "#     gammas = [0.001, 0.01, 0.1, 1]\n",
    "    kernels = ['linear', 'poly', 'rbf', 'sigmoid']\n",
    "    degrees = [2, 3, 4, 5]\n",
    "    param_grid = {'C': Cs, 'kernel' : kernels, 'degree': degrees}\n",
    "    grid_search = GridSearchCV(SVC(), param_grid, cv=nfolds)\n",
    "    grid_search.fit(X, y)\n",
    "    grid_search.best_params_\n",
    "    return grid_search.best_params_"
   ]
  },
  {
   "cell_type": "code",
   "execution_count": null,
   "metadata": {
    "ExecuteTime": {
     "end_time": "2019-02-01T10:52:22.548362Z",
     "start_time": "2019-02-01T10:52:17.407255Z"
    },
    "hidden": true
   },
   "outputs": [],
   "source": [
    "# takes 4 min to run\n",
    "best_params = svc_param_selection(x_train, y_train, 10)\n",
    "best_params # were {'C': 0.01, 'degree': 2, 'kernel': 'linear'}"
   ]
  },
  {
   "cell_type": "code",
   "execution_count": null,
   "metadata": {
    "ExecuteTime": {
     "end_time": "2019-02-01T10:52:22.594143Z",
     "start_time": "2019-02-01T10:52:22.549605Z"
    },
    "hidden": true
   },
   "outputs": [],
   "source": [
    "clf = SVC(random_state=42 , C= 0.1, kernel= 'linear')\n",
    "train(clf, x_train, y_train, x_test, y_test)"
   ]
  },
  {
   "cell_type": "code",
   "execution_count": null,
   "metadata": {
    "ExecuteTime": {
     "end_time": "2019-02-01T10:52:22.641304Z",
     "start_time": "2019-02-01T10:52:22.595223Z"
    },
    "hidden": true
   },
   "outputs": [],
   "source": [
    "clf = SVC(random_state=42 , C = 10, kernel = 'poly', degree = 5) \n",
    "train(clf, x_train, y_train, x_test, y_test)"
   ]
  },
  {
   "cell_type": "markdown",
   "metadata": {
    "heading_collapsed": true
   },
   "source": [
    "## Logistic Regression"
   ]
  },
  {
   "cell_type": "code",
   "execution_count": null,
   "metadata": {
    "ExecuteTime": {
     "end_time": "2019-02-01T10:52:22.645580Z",
     "start_time": "2019-02-01T10:52:22.642349Z"
    },
    "hidden": true
   },
   "outputs": [],
   "source": [
    "def lr_param_selection(X, y, nfolds):\n",
    "    Cs = [0.001, 0.01, 0.1, 1, 10, 100]\n",
    "    dual = [False]\n",
    "#     solvers = [ 'liblinear'] \n",
    "    solvers = ['lbfgs', 'liblinear', 'sag', 'saga']\n",
    "    reg = ['l1', 'l2']\n",
    "    param_grid = {'C': Cs ,\n",
    "                  'dual': dual,\n",
    "                  'solver': solvers\n",
    "                 }\n",
    "\n",
    "    grid_search = GridSearchCV(LogisticRegression(), param_grid, cv=nfolds)\n",
    "    grid_search.fit(X, y)\n",
    "    grid_search.best_params_\n",
    "    return grid_search.best_params_\n"
   ]
  },
  {
   "cell_type": "code",
   "execution_count": null,
   "metadata": {
    "ExecuteTime": {
     "end_time": "2019-02-01T10:52:24.534749Z",
     "start_time": "2019-02-01T10:52:22.646626Z"
    },
    "hidden": true
   },
   "outputs": [],
   "source": [
    "best_lr_params = lr_param_selection(x_train, y_train, 10)\n",
    "best_lr_params # were {'C': 0.001, 'dual': False, 'solver': 'newton-cg'}"
   ]
  },
  {
   "cell_type": "code",
   "execution_count": null,
   "metadata": {
    "ExecuteTime": {
     "end_time": "2019-02-01T10:52:24.578692Z",
     "start_time": "2019-02-01T10:52:24.536025Z"
    },
    "hidden": true
   },
   "outputs": [],
   "source": [
    "lr = LogisticRegression(random_state=42, C = 100, dual= False)\n",
    "# lr = LogisticRegression(random_state=42, C = 100, dual= False, solver='lbfgs')\n",
    "train(lr, x_train, y_train, x_test, y_test)"
   ]
  },
  {
   "cell_type": "markdown",
   "metadata": {},
   "source": [
    "# Genetic Algorithm for choosing the best pipeline"
   ]
  },
  {
   "cell_type": "code",
   "execution_count": null,
   "metadata": {
    "ExecuteTime": {
     "end_time": "2019-02-01T10:52:24.789104Z",
     "start_time": "2019-02-01T10:52:24.579975Z"
    }
   },
   "outputs": [],
   "source": [
    "from tpot import TPOTClassifier"
   ]
  },
  {
   "cell_type": "code",
   "execution_count": null,
   "metadata": {
    "ExecuteTime": {
     "end_time": "2019-02-01T10:52:24.791920Z",
     "start_time": "2019-02-01T10:52:24.790408Z"
    }
   },
   "outputs": [],
   "source": [
    "# auto_ml = TPOTClassifier(generations = 100, population_size = 100, scoring = 'balanced_accuracy', n_jobs = 4, random_state = 42, warm_start = True, verbosity = 2)\n",
    "# auto_ml.fit(x_train, y_train)"
   ]
  },
  {
   "cell_type": "code",
   "execution_count": null,
   "metadata": {
    "ExecuteTime": {
     "end_time": "2019-02-01T10:52:24.797544Z",
     "start_time": "2019-02-01T10:52:24.793194Z"
    }
   },
   "outputs": [],
   "source": [
    "# auto_ml.export('tpot_exported_pipeline.py')"
   ]
  },
  {
   "cell_type": "code",
   "execution_count": 9,
   "metadata": {
    "ExecuteTime": {
     "end_time": "2019-02-01T11:00:38.211731Z",
     "start_time": "2019-02-01T11:00:37.822785Z"
    },
    "scrolled": true
   },
   "outputs": [
    {
     "name": "stdout",
     "output_type": "stream",
     "text": [
      "Accuracy =  0.9872 - ROC = 0.9861 - CV mean = 0.9648\n"
     ]
    }
   ],
   "source": [
    "# Best pipeline: \n",
    "lsvm = LinearSVC(C=1) #, dual=False, loss=\"squared_hinge\", penalty=\"l2\", tol=1e-05)\n",
    "lsvm.fit(x_train, y_train)\n",
    "train(lsvm, x_train, y_train.reshape(-1,), x_test, y_test.reshape(-1,))\n",
    "\n",
    "# y_final = lsvm.predict(df_test.iloc[:, good_features])\n",
    "# y_final\n",
    "# with open('ytest.txt', 'w') as out_file:\n",
    "#     for line in y_final:\n",
    "#         out_file.write(str(line)+'\\r')"
   ]
  },
  {
   "cell_type": "code",
   "execution_count": 10,
   "metadata": {
    "ExecuteTime": {
     "end_time": "2019-02-01T11:00:45.713605Z",
     "start_time": "2019-02-01T11:00:45.706009Z"
    }
   },
   "outputs": [],
   "source": [
    "y_real_valued = df_test.iloc[:, good_features] @ lsvm.coef_.T\n",
    "y_real_valued = y_real_valued.values.reshape(-1)\n",
    "with open('ytest_real_value_smote.txt', 'w') as out_file:\n",
    "    for line in y_real_valued:\n",
    "        out_file.write(str(line)+'\\n')"
   ]
  },
  {
   "cell_type": "markdown",
   "metadata": {
    "heading_collapsed": true
   },
   "source": [
    "# Visualization"
   ]
  },
  {
   "cell_type": "markdown",
   "metadata": {
    "hidden": true
   },
   "source": [
    " ## PCA"
   ]
  },
  {
   "cell_type": "code",
   "execution_count": null,
   "metadata": {
    "ExecuteTime": {
     "end_time": "2019-02-01T10:52:24.994833Z",
     "start_time": "2019-02-01T10:52:24.862552Z"
    },
    "hidden": true
   },
   "outputs": [],
   "source": [
    "pca = PCA(n_components=3)\n",
    "pca_result = pca.fit_transform(x)\n",
    "print(pca_result.shape)\n",
    "df = df_main.copy()\n",
    "df['pca-one'] = pca_result[:,0]\n",
    "df['pca-two'] = pca_result[:,1] \n",
    "df['pca-three'] = pca_result[:,2]\n",
    "\n",
    "plt.scatter(df['pca-one'], df['pca-two'], c = df_y.values.reshape(-1,))"
   ]
  },
  {
   "cell_type": "code",
   "execution_count": null,
   "metadata": {
    "ExecuteTime": {
     "end_time": "2019-02-01T10:52:25.146423Z",
     "start_time": "2019-02-01T10:52:24.996110Z"
    },
    "hidden": true
   },
   "outputs": [],
   "source": [
    "from mpl_toolkits.mplot3d import axes3d\n",
    "\n",
    "fig = plt.figure()\n",
    "ax = fig.add_subplot(1, 1, 1)\n",
    "ax = fig.gca(projection='3d')\n",
    "ax.scatter(df['pca-one'], df['pca-two'], df['pca-three'], alpha=0.8, c=df_y.values.reshape(-1,), edgecolors='none', s=30)"
   ]
  },
  {
   "cell_type": "markdown",
   "metadata": {
    "ExecuteTime": {
     "end_time": "2019-01-31T19:34:45.378437Z",
     "start_time": "2019-01-31T19:34:45.376820Z"
    },
    "hidden": true
   },
   "source": [
    "## t-SNE"
   ]
  },
  {
   "cell_type": "code",
   "execution_count": null,
   "metadata": {
    "ExecuteTime": {
     "end_time": "2019-02-01T10:52:25.470066Z",
     "start_time": "2019-02-01T10:52:25.148026Z"
    },
    "hidden": true,
    "scrolled": true
   },
   "outputs": [],
   "source": [
    "n_sne = 7000\n",
    "\n",
    "tsne = TSNE(n_components=2, verbose=1, perplexity=40, n_iter=300)\n",
    "tsne_results = tsne.fit_transform(x)\n",
    "\n",
    "plt.scatter(tsne_results[:,0], tsne_results[:,1], c = df_y.values.reshape(-1,))"
   ]
  },
  {
   "cell_type": "markdown",
   "metadata": {
    "ExecuteTime": {
     "end_time": "2019-01-31T15:09:23.894966Z",
     "start_time": "2019-01-31T15:09:23.888407Z"
    },
    "heading_collapsed": true,
    "hidden": true
   },
   "source": [
    "## ISOMAP"
   ]
  },
  {
   "cell_type": "code",
   "execution_count": null,
   "metadata": {
    "ExecuteTime": {
     "end_time": "2019-02-01T10:52:25.573519Z",
     "start_time": "2019-02-01T10:52:25.471365Z"
    },
    "hidden": true
   },
   "outputs": [],
   "source": [
    "n_neighbors = 10\n",
    "n_components = 2\n",
    "y_iso = Isomap(n_neighbors, n_components).fit_transform(x)\n",
    "\n",
    "ax = fig.add_subplot(111)\n",
    "plt.scatter(y_iso[:, 0], y_iso[:, 1], c=y.reshape(-1,))#, cmap=plt.cm.Spectral)\n",
    "\n",
    "plt.axis('tight')\n",
    "plt.show()"
   ]
  },
  {
   "cell_type": "markdown",
   "metadata": {},
   "source": [
    "# Feature selection trials"
   ]
  },
  {
   "cell_type": "markdown",
   "metadata": {
    "heading_collapsed": true
   },
   "source": [
    "## F-Test"
   ]
  },
  {
   "cell_type": "markdown",
   "metadata": {
    "hidden": true
   },
   "source": [
    "F-Test is useful in feature selection as we get to know the significance of each feature in improving the model."
   ]
  },
  {
   "cell_type": "code",
   "execution_count": null,
   "metadata": {
    "ExecuteTime": {
     "end_time": "2019-02-01T10:52:25.579253Z",
     "start_time": "2019-02-01T10:52:25.574766Z"
    },
    "hidden": true
   },
   "outputs": [],
   "source": [
    "F, pval = f_classif(x, y)\n",
    "idx = np.argsort(-F)\n",
    "idx"
   ]
  },
  {
   "cell_type": "code",
   "execution_count": null,
   "metadata": {
    "ExecuteTime": {
     "end_time": "2019-02-01T10:52:25.585670Z",
     "start_time": "2019-02-01T10:52:25.580517Z"
    },
    "hidden": true
   },
   "outputs": [],
   "source": [
    "df_new = df_lasso.iloc[:,idx[0:50]]\n",
    "x_red = df_new.values\n",
    "y_red = np.array(df_y.values)\n",
    "\n",
    "x_train_red, x_test_red, y_train_red, y_test_red = train_test_split(x_red, y_red, test_size=0.33, random_state=42)"
   ]
  },
  {
   "cell_type": "code",
   "execution_count": null,
   "metadata": {
    "ExecuteTime": {
     "end_time": "2019-02-01T10:52:25.726617Z",
     "start_time": "2019-02-01T10:52:25.587037Z"
    },
    "hidden": true
   },
   "outputs": [],
   "source": [
    "lr = LogisticRegression(random_state=42, dual =True) # best one till now\n",
    "train(lr, x_train_red, y_train_red, x_test_red, y_test_red)\n",
    "\n",
    "xgb = XGBClassifier(learning_rate=0.1, n_estimators=100)\n",
    "train(xgb, x_train_red, y_train_red, x_test_red, y_test_red)\n",
    "\n",
    "lsvm = LinearSVC(C=1)\n",
    "lsvm.fit(x_train, y_train)\n",
    "train(lsvm, x_train, y_train.reshape(-1,), x_test, y_test.reshape(-1,))"
   ]
  },
  {
   "cell_type": "code",
   "execution_count": null,
   "metadata": {
    "ExecuteTime": {
     "end_time": "2019-02-01T10:52:25.746910Z",
     "start_time": "2019-02-01T10:52:13.755Z"
    },
    "hidden": true
   },
   "outputs": [],
   "source": [
    "# best_params = svc_param_selection(x_train_red, y_train_red, 10)\n",
    "# best_params # were {'C': 0.001, 'degree': 5, 'kernel': 'poly'}\n",
    "clf = SVC(C = 0.001, kernel = 'poly', degree = 5)\n",
    "train(clf, x_train_red, y_train_red, x_test_red, y_test_red)"
   ]
  },
  {
   "cell_type": "code",
   "execution_count": null,
   "metadata": {
    "ExecuteTime": {
     "end_time": "2019-02-01T10:52:25.747869Z",
     "start_time": "2019-02-01T10:52:13.759Z"
    },
    "hidden": true
   },
   "outputs": [],
   "source": [
    "num_feats = np.linspace(3, 50, 30)\n",
    "\n",
    "for f in num_feats:\n",
    "    df_new = df_main.iloc[:,idx[0:int(f)]]\n",
    "    df_new['y'] = df_y[0:]\n",
    "\n",
    "    x_red = df_new.drop(['y'], axis = 1).values\n",
    "    y_red = np.array(df_new.y.values)\n",
    "\n",
    "    x_train_red, x_test_red, y_train_red, y_test_red = train_test_split(x, y, test_size=0.33, random_state=42)\n",
    "\n",
    "    lr = LogisticRegression(random_state=42, dual =True) # best one till now\n",
    "    train(lr, x_train_red, y_train_red, x_test_red, y_test_red)"
   ]
  },
  {
   "cell_type": "markdown",
   "metadata": {
    "heading_collapsed": true
   },
   "source": [
    "## Mututal Information"
   ]
  },
  {
   "cell_type": "code",
   "execution_count": null,
   "metadata": {
    "ExecuteTime": {
     "end_time": "2019-02-01T10:52:25.749021Z",
     "start_time": "2019-02-01T10:52:13.762Z"
    },
    "hidden": true,
    "scrolled": true
   },
   "outputs": [],
   "source": [
    "mi = mutual_info_classif(x, y)"
   ]
  },
  {
   "cell_type": "code",
   "execution_count": null,
   "metadata": {
    "ExecuteTime": {
     "end_time": "2019-02-01T10:52:25.750179Z",
     "start_time": "2019-02-01T10:52:13.765Z"
    },
    "hidden": true
   },
   "outputs": [],
   "source": [
    "mi.shape"
   ]
  },
  {
   "cell_type": "code",
   "execution_count": null,
   "metadata": {
    "ExecuteTime": {
     "end_time": "2019-02-01T10:52:25.751238Z",
     "start_time": "2019-02-01T10:52:13.768Z"
    },
    "hidden": true
   },
   "outputs": [],
   "source": [
    "idx_mi = np.argsort(-mi)\n",
    "idx_mi"
   ]
  },
  {
   "cell_type": "code",
   "execution_count": null,
   "metadata": {
    "ExecuteTime": {
     "end_time": "2019-02-01T10:52:25.752366Z",
     "start_time": "2019-02-01T10:52:13.771Z"
    },
    "hidden": true
   },
   "outputs": [],
   "source": [
    "df_new = df_main.iloc[:,idx_mi[0:100]]\n",
    "df_new['y'] = df_y[0:]\n",
    "\n",
    "x_red = df_new.drop(['y'], axis = 1).values\n",
    "y_red = np.array(df_new.y.values)\n",
    "\n",
    "x_train_red, x_test_red, y_train_red, y_test_red = train_test_split(x_red, y_red, test_size=0.33, random_state=42)\n",
    "\n",
    "lr = LogisticRegression(random_state=42, dual =True) # best one till now\n",
    "train(lr, x_train_red, y_train_red, x_test_red, y_test_red)\n",
    "kfold = KFold(n_splits=10, random_state=42)\n",
    "result = cross_val_score(lr, x_train_red, y_train_red, cv=kfold, scoring='balanced_accuracy')\n",
    "result.mean()"
   ]
  },
  {
   "cell_type": "markdown",
   "metadata": {
    "ExecuteTime": {
     "end_time": "2019-01-31T15:18:22.481772Z",
     "start_time": "2019-01-31T15:18:22.479026Z"
    },
    "heading_collapsed": true
   },
   "source": [
    "## Chi"
   ]
  },
  {
   "cell_type": "code",
   "execution_count": null,
   "metadata": {
    "ExecuteTime": {
     "end_time": "2019-02-01T10:52:25.753597Z",
     "start_time": "2019-02-01T10:52:13.774Z"
    },
    "hidden": true
   },
   "outputs": [],
   "source": [
    "from sklearn.feature_selection import chi2"
   ]
  },
  {
   "cell_type": "code",
   "execution_count": null,
   "metadata": {
    "ExecuteTime": {
     "end_time": "2019-02-01T10:52:25.754840Z",
     "start_time": "2019-02-01T10:52:13.778Z"
    },
    "hidden": true,
    "scrolled": true
   },
   "outputs": [],
   "source": [
    "chi_scores, _ = chi2(x, y)\n",
    "\n",
    "idx_chi = np.argsort(-chi_scores)\n",
    "df_new = df_main.iloc[:,idx_chi[0:100]]\n",
    "df_new['y'] = df_y[0:]\n",
    "\n",
    "x_red = df_new.drop(['y'], axis = 1).values\n",
    "y_red = np.array(df_new.y.values)\n",
    "\n",
    "x_train_red, x_test_red, y_train_red, y_test_red = train_test_split(x_red, y_red, test_size=0.33, random_state=42)\n",
    "\n",
    "lr = LogisticRegression(random_state=42, dual =True) # best one till now\n",
    "train(lr, x_train_red, y_train_red, x_test_red, y_test_red)\n",
    "\n",
    "kfold = KFold(n_splits=10, random_state=42)\n",
    "result = cross_val_score(lr, x_train_red, y_train_red, cv=kfold, scoring='balanced_accuracy')\n",
    "result.mean()"
   ]
  },
  {
   "cell_type": "markdown",
   "metadata": {
    "heading_collapsed": true
   },
   "source": [
    "## Variance Threshold"
   ]
  },
  {
   "cell_type": "code",
   "execution_count": null,
   "metadata": {
    "ExecuteTime": {
     "end_time": "2019-02-01T10:52:25.756043Z",
     "start_time": "2019-02-01T10:52:13.782Z"
    },
    "hidden": true
   },
   "outputs": [],
   "source": [
    "from sklearn.feature_selection import VarianceThreshold"
   ]
  },
  {
   "cell_type": "code",
   "execution_count": null,
   "metadata": {
    "ExecuteTime": {
     "end_time": "2019-02-01T10:52:25.757397Z",
     "start_time": "2019-02-01T10:52:13.785Z"
    },
    "hidden": true
   },
   "outputs": [],
   "source": [
    "sel = VarianceThreshold()\n",
    "selected_feats = sel.fit_transform(x)"
   ]
  },
  {
   "cell_type": "code",
   "execution_count": null,
   "metadata": {
    "ExecuteTime": {
     "end_time": "2019-02-01T10:52:25.758640Z",
     "start_time": "2019-02-01T10:52:13.788Z"
    },
    "hidden": true
   },
   "outputs": [],
   "source": [
    "selected_feats.shape"
   ]
  },
  {
   "cell_type": "markdown",
   "metadata": {},
   "source": [
    "## Other"
   ]
  },
  {
   "cell_type": "code",
   "execution_count": null,
   "metadata": {
    "ExecuteTime": {
     "end_time": "2019-02-01T10:52:25.760006Z",
     "start_time": "2019-02-01T10:52:13.790Z"
    }
   },
   "outputs": [],
   "source": [
    "# clf = Pipeline([\n",
    "#   ('feature_selection', SelectFromModel(LassoCV())),\n",
    "#   ('classification', RandomForestClassifier())\n",
    "# ])\n",
    "\n",
    "ls = LassoCV()\n",
    "ls.fit(x_train, y_train)\n",
    "train(ls, x_train, y_train, x_test, y_test)\n",
    "\n",
    "# train(lr, x_train_red, y_train_red, x_test_red, y_test_red)"
   ]
  },
  {
   "cell_type": "code",
   "execution_count": null,
   "metadata": {
    "ExecuteTime": {
     "end_time": "2019-02-01T10:52:25.761288Z",
     "start_time": "2019-02-01T10:52:13.794Z"
    }
   },
   "outputs": [],
   "source": [
    "# from sklearn.feature_selection import RFECV\n",
    "# model = LogisticRegression() \n",
    "# rfe = RFECV(model, 3)\n",
    "\n",
    "# fit = rfe.fit(x_train, y_train)"
   ]
  },
  {
   "cell_type": "code",
   "execution_count": null,
   "metadata": {
    "ExecuteTime": {
     "end_time": "2019-02-01T10:52:25.762501Z",
     "start_time": "2019-02-01T10:52:13.797Z"
    }
   },
   "outputs": [],
   "source": [
    "# fit.min_features_to_select"
   ]
  },
  {
   "cell_type": "code",
   "execution_count": null,
   "metadata": {},
   "outputs": [],
   "source": []
  },
  {
   "cell_type": "code",
   "execution_count": null,
   "metadata": {
    "ExecuteTime": {
     "end_time": "2019-02-01T10:52:25.763753Z",
     "start_time": "2019-02-01T10:52:13.801Z"
    }
   },
   "outputs": [],
   "source": [
    "from sklearn.linear_model import SGDClassifier\n",
    "tuned_parameters = {'alpha': [10 ** a for a in range(-6, -2)]}\n",
    "sgd = SGDClassifier(loss='log', penalty='elasticnet',l1_ratio=0.15, n_iter=5, shuffle=True, verbose=False, n_jobs=10, average=False, class_weight='balanced')\n",
    "clf = GridSearchCV(SGDClassifier('log')\n",
    "                  , tuned_parameters, cv=10, scoring='balanced_accuracy')\n",
    "\n",
    "#now clf is the best classifier found given the search space\n",
    "train(clf, x_train_red, y_train_red, x_test_red, y_test_red)\n",
    "#you can find the best alpha here\n",
    "print(clf.best_params_)   \n"
   ]
  },
  {
   "cell_type": "code",
   "execution_count": null,
   "metadata": {
    "ExecuteTime": {
     "end_time": "2019-02-01T10:52:25.765086Z",
     "start_time": "2019-02-01T10:52:13.804Z"
    }
   },
   "outputs": [],
   "source": [
    "# sgd.fit(x_train_red, y_train_red)\n",
    "# sgd.coef_.shape\n",
    "# np.argsort(-sgd.coef_)"
   ]
  },
  {
   "cell_type": "markdown",
   "metadata": {},
   "source": [
    "# Feature Engineering Trials"
   ]
  },
  {
   "cell_type": "code",
   "execution_count": null,
   "metadata": {
    "ExecuteTime": {
     "end_time": "2019-02-01T10:52:25.766657Z",
     "start_time": "2019-02-01T10:52:13.808Z"
    }
   },
   "outputs": [],
   "source": [
    "import featuretools as ft"
   ]
  },
  {
   "cell_type": "code",
   "execution_count": null,
   "metadata": {
    "ExecuteTime": {
     "end_time": "2019-02-01T10:52:25.767932Z",
     "start_time": "2019-02-01T10:52:13.810Z"
    }
   },
   "outputs": [],
   "source": [
    "df = df.reset_index()"
   ]
  },
  {
   "cell_type": "code",
   "execution_count": null,
   "metadata": {
    "ExecuteTime": {
     "end_time": "2019-02-01T10:52:25.769157Z",
     "start_time": "2019-02-01T10:52:13.814Z"
    }
   },
   "outputs": [],
   "source": [
    "es = ft.EntitySet(id='main_df')"
   ]
  },
  {
   "cell_type": "code",
   "execution_count": null,
   "metadata": {
    "ExecuteTime": {
     "end_time": "2019-02-01T10:52:25.770078Z",
     "start_time": "2019-02-01T10:52:13.819Z"
    },
    "scrolled": true
   },
   "outputs": [],
   "source": [
    "es = es.entity_from_dataframe(entity_id= 'main_df', dataframe=df)#, make_index=False)"
   ]
  }
 ],
 "metadata": {
  "kernelspec": {
   "display_name": "Python (ml)",
   "language": "python",
   "name": "ml"
  },
  "language_info": {
   "codemirror_mode": {
    "name": "ipython",
    "version": 3
   },
   "file_extension": ".py",
   "mimetype": "text/x-python",
   "name": "python",
   "nbconvert_exporter": "python",
   "pygments_lexer": "ipython3",
   "version": "3.6.8"
  },
  "toc": {
   "base_numbering": 1,
   "nav_menu": {},
   "number_sections": true,
   "sideBar": true,
   "skip_h1_title": false,
   "title_cell": "Table of Contents",
   "title_sidebar": "Contents",
   "toc_cell": false,
   "toc_position": {},
   "toc_section_display": true,
   "toc_window_display": false
  },
  "varInspector": {
   "cols": {
    "lenName": 16,
    "lenType": 16,
    "lenVar": 40
   },
   "kernels_config": {
    "python": {
     "delete_cmd_postfix": "",
     "delete_cmd_prefix": "del ",
     "library": "var_list.py",
     "varRefreshCmd": "print(var_dic_list())"
    },
    "r": {
     "delete_cmd_postfix": ") ",
     "delete_cmd_prefix": "rm(",
     "library": "var_list.r",
     "varRefreshCmd": "cat(var_dic_list()) "
    }
   },
   "types_to_exclude": [
    "module",
    "function",
    "builtin_function_or_method",
    "instance",
    "_Feature"
   ],
   "window_display": false
  }
 },
 "nbformat": 4,
 "nbformat_minor": 2
}
